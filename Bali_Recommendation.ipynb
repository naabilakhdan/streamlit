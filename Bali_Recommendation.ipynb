{
  "cells": [
    {
      "cell_type": "code",
      "execution_count": 1,
      "id": "c31ff5f8",
      "metadata": {
        "id": "c31ff5f8"
      },
      "outputs": [],
      "source": [
        "import pickle # For loading model\n",
        "import difflib\n",
        "from sklearn.feature_extraction.text import CountVectorizer\n",
        "from sklearn.metrics.pairwise import cosine_similarity\n",
        "from sklearn.feature_extraction.text import TfidfVectorizer\n",
        "import pandas as pd\n",
        "import numpy as np\n",
        "import pickle"
      ]
    },
    {
      "cell_type": "code",
      "source": [
        "!gdown --id 1_n03w2XPQQlbEBuWFHMSZJql3FXXBrTd"
      ],
      "metadata": {
        "colab": {
          "base_uri": "https://localhost:8080/"
        },
        "id": "RGK8jFFJH5xJ",
        "outputId": "d85afaf5-a979-466e-d6b0-94c4580683d5"
      },
      "id": "RGK8jFFJH5xJ",
      "execution_count": 2,
      "outputs": [
        {
          "output_type": "stream",
          "name": "stdout",
          "text": [
            "/usr/local/lib/python3.8/dist-packages/gdown/cli.py:127: FutureWarning: Option `--id` was deprecated in version 4.3.1 and will be removed in 5.0. You don't need to pass it anymore to use a file ID.\n",
            "  warnings.warn(\n",
            "Downloading...\n",
            "From: https://drive.google.com/uc?id=1_n03w2XPQQlbEBuWFHMSZJql3FXXBrTd\n",
            "To: /content/wisata_bali2.csv\n",
            "100% 33.8k/33.8k [00:00<00:00, 41.1MB/s]\n"
          ]
        }
      ]
    },
    {
      "cell_type": "code",
      "execution_count": 3,
      "id": "3936bb9f",
      "metadata": {
        "id": "3936bb9f",
        "outputId": "1dc37058-e792-45f9-d9d0-3c79d650b907",
        "colab": {
          "base_uri": "https://localhost:8080/",
          "height": 1000
        }
      },
      "outputs": [
        {
          "output_type": "execute_result",
          "data": {
            "text/plain": [
              "      category                                             tags  \\\n",
              "0   Agrowisata   Agrowisata, Gianyar, Dekat dari Bandara, Mahal   \n",
              "1   Agrowisata  Agrowisata, Gianyar, Sedang dari Bandara, Mahal   \n",
              "2   Agrowisata  Agrowisata, Denpasar, Dekat dari Bandara, Murah   \n",
              "3   Agrowisata  Agrowisata, Gianyar, Dekat dari Bandara, Gratis   \n",
              "4   Agrowisata  Agrowisata, Tabanan, Sedang dari Bandara, Murah   \n",
              "..         ...                                              ...   \n",
              "70    Religius    Religius, Gianyar, Dekat dari Bandara, Gratis   \n",
              "71    Religius      Religius, Badung, Dekat dari Bandara, Murah   \n",
              "72    Religius    Religius, Gianyar, Sedang dari Bandara, Murah   \n",
              "73    Religius      Religius, Badung, Dekat dari Bandara, Mahal   \n",
              "74    Religius   Religius, Karangasem, Jauh dari Bandara, Murah   \n",
              "\n",
              "                                                image  weekend_price  \\\n",
              "0   https://i0.wp.com/sabani.com/wp-content/upload...          50000   \n",
              "1   https://static.cityspride.com/img/ruuu_1101/pr...         300000   \n",
              "2   https://www.rentalmobilbali.net/wp-content/upl...          35000   \n",
              "3   https://www.omnivagant.com/wp-content/uploads/...              0   \n",
              "4   https://img.freepik.com/premium-photo/green-ri...          40000   \n",
              "..                                                ...            ...   \n",
              "70  https://liburdulu.com/wp-content/uploads/2020/...              0   \n",
              "71  https://img.freepik.com/free-photo/pura-taman-...          15000   \n",
              "72  https://media.istockphoto.com/id/1355012798/ph...          30000   \n",
              "73  https://museumnusantara.com/wp-content/uploads...          50000   \n",
              "74  https://s3.ap-southeast-2.amazonaws.com/thebal...          25000   \n",
              "\n",
              "    weekday_price distance  rating            place_name        city  \\\n",
              "0           50000    dekat     3.0     Agrowisata Satria     Gianyar   \n",
              "1          300000   sedang     5.0      Aloha Ubud Swing     Gianyar   \n",
              "2           30000    dekat     4.0     Big Garden Corner    Denpasar   \n",
              "3               0    dekat     4.5   Campuhan Ridge Walk     Gianyar   \n",
              "4           40000   sedang     4.5  Jatiluwih Green Land     Tabanan   \n",
              "..            ...      ...     ...                   ...         ...   \n",
              "70              0    dekat     4.0        Pura Saraswati     Gianyar   \n",
              "71          15000    dekat     4.0       Pura Taman Ayun      Badung   \n",
              "72          30000   sedang     4.5      Pura Tirta Empul     Gianyar   \n",
              "73          50000    dekat     4.0          Pura Uluwatu      Badung   \n",
              "74          25000     jauh     4.5          Tirta Gangga  Karangasem   \n",
              "\n",
              "                                          description  \n",
              "0   Agrowisata Satria menawarkan rasa Bali pada se...  \n",
              "1   Ajaklah orangorang tercinta untuk mencoba ayun...  \n",
              "2   Objek wisata Big Garden Corner Sanur adalah se...  \n",
              "3   Campuhan Ridge Walk adalah sebuah trek jogging...  \n",
              "4   Nominasi untuk penunjukan sebagai situs Warisa...  \n",
              "..                                                ...  \n",
              "70  Pura Saraswati merupakan pura yang didirikan u...  \n",
              "71  Pura Taman Ayun di susun dengan konsep taman t...  \n",
              "72  Tirta Empul adalah nama sebuah pura Hindu yang...  \n",
              "73  Pura yang terletak di ujung barat daya pulau B...  \n",
              "74  Ada tiga hal utama yang ada di taman Tirta Gan...  \n",
              "\n",
              "[75 rows x 10 columns]"
            ],
            "text/html": [
              "\n",
              "  <div id=\"df-9be2702c-8273-407c-8a33-26bd4ac4be50\">\n",
              "    <div class=\"colab-df-container\">\n",
              "      <div>\n",
              "<style scoped>\n",
              "    .dataframe tbody tr th:only-of-type {\n",
              "        vertical-align: middle;\n",
              "    }\n",
              "\n",
              "    .dataframe tbody tr th {\n",
              "        vertical-align: top;\n",
              "    }\n",
              "\n",
              "    .dataframe thead th {\n",
              "        text-align: right;\n",
              "    }\n",
              "</style>\n",
              "<table border=\"1\" class=\"dataframe\">\n",
              "  <thead>\n",
              "    <tr style=\"text-align: right;\">\n",
              "      <th></th>\n",
              "      <th>category</th>\n",
              "      <th>tags</th>\n",
              "      <th>image</th>\n",
              "      <th>weekend_price</th>\n",
              "      <th>weekday_price</th>\n",
              "      <th>distance</th>\n",
              "      <th>rating</th>\n",
              "      <th>place_name</th>\n",
              "      <th>city</th>\n",
              "      <th>description</th>\n",
              "    </tr>\n",
              "  </thead>\n",
              "  <tbody>\n",
              "    <tr>\n",
              "      <th>0</th>\n",
              "      <td>Agrowisata</td>\n",
              "      <td>Agrowisata, Gianyar, Dekat dari Bandara, Mahal</td>\n",
              "      <td>https://i0.wp.com/sabani.com/wp-content/upload...</td>\n",
              "      <td>50000</td>\n",
              "      <td>50000</td>\n",
              "      <td>dekat</td>\n",
              "      <td>3.0</td>\n",
              "      <td>Agrowisata Satria</td>\n",
              "      <td>Gianyar</td>\n",
              "      <td>Agrowisata Satria menawarkan rasa Bali pada se...</td>\n",
              "    </tr>\n",
              "    <tr>\n",
              "      <th>1</th>\n",
              "      <td>Agrowisata</td>\n",
              "      <td>Agrowisata, Gianyar, Sedang dari Bandara, Mahal</td>\n",
              "      <td>https://static.cityspride.com/img/ruuu_1101/pr...</td>\n",
              "      <td>300000</td>\n",
              "      <td>300000</td>\n",
              "      <td>sedang</td>\n",
              "      <td>5.0</td>\n",
              "      <td>Aloha Ubud Swing</td>\n",
              "      <td>Gianyar</td>\n",
              "      <td>Ajaklah orangorang tercinta untuk mencoba ayun...</td>\n",
              "    </tr>\n",
              "    <tr>\n",
              "      <th>2</th>\n",
              "      <td>Agrowisata</td>\n",
              "      <td>Agrowisata, Denpasar, Dekat dari Bandara, Murah</td>\n",
              "      <td>https://www.rentalmobilbali.net/wp-content/upl...</td>\n",
              "      <td>35000</td>\n",
              "      <td>30000</td>\n",
              "      <td>dekat</td>\n",
              "      <td>4.0</td>\n",
              "      <td>Big Garden Corner</td>\n",
              "      <td>Denpasar</td>\n",
              "      <td>Objek wisata Big Garden Corner Sanur adalah se...</td>\n",
              "    </tr>\n",
              "    <tr>\n",
              "      <th>3</th>\n",
              "      <td>Agrowisata</td>\n",
              "      <td>Agrowisata, Gianyar, Dekat dari Bandara, Gratis</td>\n",
              "      <td>https://www.omnivagant.com/wp-content/uploads/...</td>\n",
              "      <td>0</td>\n",
              "      <td>0</td>\n",
              "      <td>dekat</td>\n",
              "      <td>4.5</td>\n",
              "      <td>Campuhan Ridge Walk</td>\n",
              "      <td>Gianyar</td>\n",
              "      <td>Campuhan Ridge Walk adalah sebuah trek jogging...</td>\n",
              "    </tr>\n",
              "    <tr>\n",
              "      <th>4</th>\n",
              "      <td>Agrowisata</td>\n",
              "      <td>Agrowisata, Tabanan, Sedang dari Bandara, Murah</td>\n",
              "      <td>https://img.freepik.com/premium-photo/green-ri...</td>\n",
              "      <td>40000</td>\n",
              "      <td>40000</td>\n",
              "      <td>sedang</td>\n",
              "      <td>4.5</td>\n",
              "      <td>Jatiluwih Green Land</td>\n",
              "      <td>Tabanan</td>\n",
              "      <td>Nominasi untuk penunjukan sebagai situs Warisa...</td>\n",
              "    </tr>\n",
              "    <tr>\n",
              "      <th>...</th>\n",
              "      <td>...</td>\n",
              "      <td>...</td>\n",
              "      <td>...</td>\n",
              "      <td>...</td>\n",
              "      <td>...</td>\n",
              "      <td>...</td>\n",
              "      <td>...</td>\n",
              "      <td>...</td>\n",
              "      <td>...</td>\n",
              "      <td>...</td>\n",
              "    </tr>\n",
              "    <tr>\n",
              "      <th>70</th>\n",
              "      <td>Religius</td>\n",
              "      <td>Religius, Gianyar, Dekat dari Bandara, Gratis</td>\n",
              "      <td>https://liburdulu.com/wp-content/uploads/2020/...</td>\n",
              "      <td>0</td>\n",
              "      <td>0</td>\n",
              "      <td>dekat</td>\n",
              "      <td>4.0</td>\n",
              "      <td>Pura Saraswati</td>\n",
              "      <td>Gianyar</td>\n",
              "      <td>Pura Saraswati merupakan pura yang didirikan u...</td>\n",
              "    </tr>\n",
              "    <tr>\n",
              "      <th>71</th>\n",
              "      <td>Religius</td>\n",
              "      <td>Religius, Badung, Dekat dari Bandara, Murah</td>\n",
              "      <td>https://img.freepik.com/free-photo/pura-taman-...</td>\n",
              "      <td>15000</td>\n",
              "      <td>15000</td>\n",
              "      <td>dekat</td>\n",
              "      <td>4.0</td>\n",
              "      <td>Pura Taman Ayun</td>\n",
              "      <td>Badung</td>\n",
              "      <td>Pura Taman Ayun di susun dengan konsep taman t...</td>\n",
              "    </tr>\n",
              "    <tr>\n",
              "      <th>72</th>\n",
              "      <td>Religius</td>\n",
              "      <td>Religius, Gianyar, Sedang dari Bandara, Murah</td>\n",
              "      <td>https://media.istockphoto.com/id/1355012798/ph...</td>\n",
              "      <td>30000</td>\n",
              "      <td>30000</td>\n",
              "      <td>sedang</td>\n",
              "      <td>4.5</td>\n",
              "      <td>Pura Tirta Empul</td>\n",
              "      <td>Gianyar</td>\n",
              "      <td>Tirta Empul adalah nama sebuah pura Hindu yang...</td>\n",
              "    </tr>\n",
              "    <tr>\n",
              "      <th>73</th>\n",
              "      <td>Religius</td>\n",
              "      <td>Religius, Badung, Dekat dari Bandara, Mahal</td>\n",
              "      <td>https://museumnusantara.com/wp-content/uploads...</td>\n",
              "      <td>50000</td>\n",
              "      <td>50000</td>\n",
              "      <td>dekat</td>\n",
              "      <td>4.0</td>\n",
              "      <td>Pura Uluwatu</td>\n",
              "      <td>Badung</td>\n",
              "      <td>Pura yang terletak di ujung barat daya pulau B...</td>\n",
              "    </tr>\n",
              "    <tr>\n",
              "      <th>74</th>\n",
              "      <td>Religius</td>\n",
              "      <td>Religius, Karangasem, Jauh dari Bandara, Murah</td>\n",
              "      <td>https://s3.ap-southeast-2.amazonaws.com/thebal...</td>\n",
              "      <td>25000</td>\n",
              "      <td>25000</td>\n",
              "      <td>jauh</td>\n",
              "      <td>4.5</td>\n",
              "      <td>Tirta Gangga</td>\n",
              "      <td>Karangasem</td>\n",
              "      <td>Ada tiga hal utama yang ada di taman Tirta Gan...</td>\n",
              "    </tr>\n",
              "  </tbody>\n",
              "</table>\n",
              "<p>75 rows × 10 columns</p>\n",
              "</div>\n",
              "      <button class=\"colab-df-convert\" onclick=\"convertToInteractive('df-9be2702c-8273-407c-8a33-26bd4ac4be50')\"\n",
              "              title=\"Convert this dataframe to an interactive table.\"\n",
              "              style=\"display:none;\">\n",
              "        \n",
              "  <svg xmlns=\"http://www.w3.org/2000/svg\" height=\"24px\"viewBox=\"0 0 24 24\"\n",
              "       width=\"24px\">\n",
              "    <path d=\"M0 0h24v24H0V0z\" fill=\"none\"/>\n",
              "    <path d=\"M18.56 5.44l.94 2.06.94-2.06 2.06-.94-2.06-.94-.94-2.06-.94 2.06-2.06.94zm-11 1L8.5 8.5l.94-2.06 2.06-.94-2.06-.94L8.5 2.5l-.94 2.06-2.06.94zm10 10l.94 2.06.94-2.06 2.06-.94-2.06-.94-.94-2.06-.94 2.06-2.06.94z\"/><path d=\"M17.41 7.96l-1.37-1.37c-.4-.4-.92-.59-1.43-.59-.52 0-1.04.2-1.43.59L10.3 9.45l-7.72 7.72c-.78.78-.78 2.05 0 2.83L4 21.41c.39.39.9.59 1.41.59.51 0 1.02-.2 1.41-.59l7.78-7.78 2.81-2.81c.8-.78.8-2.07 0-2.86zM5.41 20L4 18.59l7.72-7.72 1.47 1.35L5.41 20z\"/>\n",
              "  </svg>\n",
              "      </button>\n",
              "      \n",
              "  <style>\n",
              "    .colab-df-container {\n",
              "      display:flex;\n",
              "      flex-wrap:wrap;\n",
              "      gap: 12px;\n",
              "    }\n",
              "\n",
              "    .colab-df-convert {\n",
              "      background-color: #E8F0FE;\n",
              "      border: none;\n",
              "      border-radius: 50%;\n",
              "      cursor: pointer;\n",
              "      display: none;\n",
              "      fill: #1967D2;\n",
              "      height: 32px;\n",
              "      padding: 0 0 0 0;\n",
              "      width: 32px;\n",
              "    }\n",
              "\n",
              "    .colab-df-convert:hover {\n",
              "      background-color: #E2EBFA;\n",
              "      box-shadow: 0px 1px 2px rgba(60, 64, 67, 0.3), 0px 1px 3px 1px rgba(60, 64, 67, 0.15);\n",
              "      fill: #174EA6;\n",
              "    }\n",
              "\n",
              "    [theme=dark] .colab-df-convert {\n",
              "      background-color: #3B4455;\n",
              "      fill: #D2E3FC;\n",
              "    }\n",
              "\n",
              "    [theme=dark] .colab-df-convert:hover {\n",
              "      background-color: #434B5C;\n",
              "      box-shadow: 0px 1px 3px 1px rgba(0, 0, 0, 0.15);\n",
              "      filter: drop-shadow(0px 1px 2px rgba(0, 0, 0, 0.3));\n",
              "      fill: #FFFFFF;\n",
              "    }\n",
              "  </style>\n",
              "\n",
              "      <script>\n",
              "        const buttonEl =\n",
              "          document.querySelector('#df-9be2702c-8273-407c-8a33-26bd4ac4be50 button.colab-df-convert');\n",
              "        buttonEl.style.display =\n",
              "          google.colab.kernel.accessAllowed ? 'block' : 'none';\n",
              "\n",
              "        async function convertToInteractive(key) {\n",
              "          const element = document.querySelector('#df-9be2702c-8273-407c-8a33-26bd4ac4be50');\n",
              "          const dataTable =\n",
              "            await google.colab.kernel.invokeFunction('convertToInteractive',\n",
              "                                                     [key], {});\n",
              "          if (!dataTable) return;\n",
              "\n",
              "          const docLinkHtml = 'Like what you see? Visit the ' +\n",
              "            '<a target=\"_blank\" href=https://colab.research.google.com/notebooks/data_table.ipynb>data table notebook</a>'\n",
              "            + ' to learn more about interactive tables.';\n",
              "          element.innerHTML = '';\n",
              "          dataTable['output_type'] = 'display_data';\n",
              "          await google.colab.output.renderOutput(dataTable, element);\n",
              "          const docLink = document.createElement('div');\n",
              "          docLink.innerHTML = docLinkHtml;\n",
              "          element.appendChild(docLink);\n",
              "        }\n",
              "      </script>\n",
              "    </div>\n",
              "  </div>\n",
              "  "
            ]
          },
          "metadata": {},
          "execution_count": 3
        }
      ],
      "source": [
        "df = pd.read_csv('wisata_bali2.csv')\n",
        "df"
      ]
    },
    {
      "cell_type": "code",
      "execution_count": 4,
      "id": "02f15fcb",
      "metadata": {
        "scrolled": true,
        "id": "02f15fcb",
        "outputId": "45b9236e-b462-4796-b4dc-989b09dbd86e",
        "colab": {
          "base_uri": "https://localhost:8080/",
          "height": 206
        }
      },
      "outputs": [
        {
          "output_type": "execute_result",
          "data": {
            "text/plain": [
              "             place_name                                             tags  \\\n",
              "0     Agrowisata Satria   Agrowisata, Gianyar, Dekat dari Bandara, Mahal   \n",
              "1      Aloha Ubud Swing  Agrowisata, Gianyar, Sedang dari Bandara, Mahal   \n",
              "2     Big Garden Corner  Agrowisata, Denpasar, Dekat dari Bandara, Murah   \n",
              "3   Campuhan Ridge Walk  Agrowisata, Gianyar, Dekat dari Bandara, Gratis   \n",
              "4  Jatiluwih Green Land  Agrowisata, Tabanan, Sedang dari Bandara, Murah   \n",
              "\n",
              "                                         description  \n",
              "0  Agrowisata Satria menawarkan rasa Bali pada se...  \n",
              "1  Ajaklah orangorang tercinta untuk mencoba ayun...  \n",
              "2  Objek wisata Big Garden Corner Sanur adalah se...  \n",
              "3  Campuhan Ridge Walk adalah sebuah trek jogging...  \n",
              "4  Nominasi untuk penunjukan sebagai situs Warisa...  "
            ],
            "text/html": [
              "\n",
              "  <div id=\"df-b98a690c-7041-4c91-b2ad-ba6f3d28671d\">\n",
              "    <div class=\"colab-df-container\">\n",
              "      <div>\n",
              "<style scoped>\n",
              "    .dataframe tbody tr th:only-of-type {\n",
              "        vertical-align: middle;\n",
              "    }\n",
              "\n",
              "    .dataframe tbody tr th {\n",
              "        vertical-align: top;\n",
              "    }\n",
              "\n",
              "    .dataframe thead th {\n",
              "        text-align: right;\n",
              "    }\n",
              "</style>\n",
              "<table border=\"1\" class=\"dataframe\">\n",
              "  <thead>\n",
              "    <tr style=\"text-align: right;\">\n",
              "      <th></th>\n",
              "      <th>place_name</th>\n",
              "      <th>tags</th>\n",
              "      <th>description</th>\n",
              "    </tr>\n",
              "  </thead>\n",
              "  <tbody>\n",
              "    <tr>\n",
              "      <th>0</th>\n",
              "      <td>Agrowisata Satria</td>\n",
              "      <td>Agrowisata, Gianyar, Dekat dari Bandara, Mahal</td>\n",
              "      <td>Agrowisata Satria menawarkan rasa Bali pada se...</td>\n",
              "    </tr>\n",
              "    <tr>\n",
              "      <th>1</th>\n",
              "      <td>Aloha Ubud Swing</td>\n",
              "      <td>Agrowisata, Gianyar, Sedang dari Bandara, Mahal</td>\n",
              "      <td>Ajaklah orangorang tercinta untuk mencoba ayun...</td>\n",
              "    </tr>\n",
              "    <tr>\n",
              "      <th>2</th>\n",
              "      <td>Big Garden Corner</td>\n",
              "      <td>Agrowisata, Denpasar, Dekat dari Bandara, Murah</td>\n",
              "      <td>Objek wisata Big Garden Corner Sanur adalah se...</td>\n",
              "    </tr>\n",
              "    <tr>\n",
              "      <th>3</th>\n",
              "      <td>Campuhan Ridge Walk</td>\n",
              "      <td>Agrowisata, Gianyar, Dekat dari Bandara, Gratis</td>\n",
              "      <td>Campuhan Ridge Walk adalah sebuah trek jogging...</td>\n",
              "    </tr>\n",
              "    <tr>\n",
              "      <th>4</th>\n",
              "      <td>Jatiluwih Green Land</td>\n",
              "      <td>Agrowisata, Tabanan, Sedang dari Bandara, Murah</td>\n",
              "      <td>Nominasi untuk penunjukan sebagai situs Warisa...</td>\n",
              "    </tr>\n",
              "  </tbody>\n",
              "</table>\n",
              "</div>\n",
              "      <button class=\"colab-df-convert\" onclick=\"convertToInteractive('df-b98a690c-7041-4c91-b2ad-ba6f3d28671d')\"\n",
              "              title=\"Convert this dataframe to an interactive table.\"\n",
              "              style=\"display:none;\">\n",
              "        \n",
              "  <svg xmlns=\"http://www.w3.org/2000/svg\" height=\"24px\"viewBox=\"0 0 24 24\"\n",
              "       width=\"24px\">\n",
              "    <path d=\"M0 0h24v24H0V0z\" fill=\"none\"/>\n",
              "    <path d=\"M18.56 5.44l.94 2.06.94-2.06 2.06-.94-2.06-.94-.94-2.06-.94 2.06-2.06.94zm-11 1L8.5 8.5l.94-2.06 2.06-.94-2.06-.94L8.5 2.5l-.94 2.06-2.06.94zm10 10l.94 2.06.94-2.06 2.06-.94-2.06-.94-.94-2.06-.94 2.06-2.06.94z\"/><path d=\"M17.41 7.96l-1.37-1.37c-.4-.4-.92-.59-1.43-.59-.52 0-1.04.2-1.43.59L10.3 9.45l-7.72 7.72c-.78.78-.78 2.05 0 2.83L4 21.41c.39.39.9.59 1.41.59.51 0 1.02-.2 1.41-.59l7.78-7.78 2.81-2.81c.8-.78.8-2.07 0-2.86zM5.41 20L4 18.59l7.72-7.72 1.47 1.35L5.41 20z\"/>\n",
              "  </svg>\n",
              "      </button>\n",
              "      \n",
              "  <style>\n",
              "    .colab-df-container {\n",
              "      display:flex;\n",
              "      flex-wrap:wrap;\n",
              "      gap: 12px;\n",
              "    }\n",
              "\n",
              "    .colab-df-convert {\n",
              "      background-color: #E8F0FE;\n",
              "      border: none;\n",
              "      border-radius: 50%;\n",
              "      cursor: pointer;\n",
              "      display: none;\n",
              "      fill: #1967D2;\n",
              "      height: 32px;\n",
              "      padding: 0 0 0 0;\n",
              "      width: 32px;\n",
              "    }\n",
              "\n",
              "    .colab-df-convert:hover {\n",
              "      background-color: #E2EBFA;\n",
              "      box-shadow: 0px 1px 2px rgba(60, 64, 67, 0.3), 0px 1px 3px 1px rgba(60, 64, 67, 0.15);\n",
              "      fill: #174EA6;\n",
              "    }\n",
              "\n",
              "    [theme=dark] .colab-df-convert {\n",
              "      background-color: #3B4455;\n",
              "      fill: #D2E3FC;\n",
              "    }\n",
              "\n",
              "    [theme=dark] .colab-df-convert:hover {\n",
              "      background-color: #434B5C;\n",
              "      box-shadow: 0px 1px 3px 1px rgba(0, 0, 0, 0.15);\n",
              "      filter: drop-shadow(0px 1px 2px rgba(0, 0, 0, 0.3));\n",
              "      fill: #FFFFFF;\n",
              "    }\n",
              "  </style>\n",
              "\n",
              "      <script>\n",
              "        const buttonEl =\n",
              "          document.querySelector('#df-b98a690c-7041-4c91-b2ad-ba6f3d28671d button.colab-df-convert');\n",
              "        buttonEl.style.display =\n",
              "          google.colab.kernel.accessAllowed ? 'block' : 'none';\n",
              "\n",
              "        async function convertToInteractive(key) {\n",
              "          const element = document.querySelector('#df-b98a690c-7041-4c91-b2ad-ba6f3d28671d');\n",
              "          const dataTable =\n",
              "            await google.colab.kernel.invokeFunction('convertToInteractive',\n",
              "                                                     [key], {});\n",
              "          if (!dataTable) return;\n",
              "\n",
              "          const docLinkHtml = 'Like what you see? Visit the ' +\n",
              "            '<a target=\"_blank\" href=https://colab.research.google.com/notebooks/data_table.ipynb>data table notebook</a>'\n",
              "            + ' to learn more about interactive tables.';\n",
              "          element.innerHTML = '';\n",
              "          dataTable['output_type'] = 'display_data';\n",
              "          await google.colab.output.renderOutput(dataTable, element);\n",
              "          const docLink = document.createElement('div');\n",
              "          docLink.innerHTML = docLinkHtml;\n",
              "          element.appendChild(docLink);\n",
              "        }\n",
              "      </script>\n",
              "    </div>\n",
              "  </div>\n",
              "  "
            ]
          },
          "metadata": {},
          "execution_count": 4
        }
      ],
      "source": [
        "df_filter = df[['place_name', 'tags', 'description']]\n",
        "df_filter.head()"
      ]
    },
    {
      "cell_type": "code",
      "execution_count": 5,
      "id": "7550e01a",
      "metadata": {
        "scrolled": true,
        "id": "7550e01a",
        "outputId": "db40048f-8e73-42d8-8d63-dd755611d77a",
        "colab": {
          "base_uri": "https://localhost:8080/"
        }
      },
      "outputs": [
        {
          "output_type": "stream",
          "name": "stdout",
          "text": [
            "<class 'pandas.core.frame.DataFrame'>\n",
            "RangeIndex: 75 entries, 0 to 74\n",
            "Data columns (total 3 columns):\n",
            " #   Column       Non-Null Count  Dtype \n",
            "---  ------       --------------  ----- \n",
            " 0   place_name   75 non-null     object\n",
            " 1   tags         75 non-null     object\n",
            " 2   description  75 non-null     object\n",
            "dtypes: object(3)\n",
            "memory usage: 1.9+ KB\n"
          ]
        }
      ],
      "source": [
        "df_filter.info()"
      ]
    },
    {
      "cell_type": "code",
      "execution_count": 6,
      "id": "e8af0056",
      "metadata": {
        "id": "e8af0056",
        "outputId": "87e4d9b5-2dd0-4191-f436-560a5e32b14c",
        "colab": {
          "base_uri": "https://localhost:8080/"
        }
      },
      "outputs": [
        {
          "output_type": "execute_result",
          "data": {
            "text/plain": [
              "(75, 10)"
            ]
          },
          "metadata": {},
          "execution_count": 6
        }
      ],
      "source": [
        "df.shape"
      ]
    },
    {
      "cell_type": "code",
      "execution_count": 7,
      "id": "b521d4de",
      "metadata": {
        "scrolled": false,
        "id": "b521d4de",
        "outputId": "0cfd846a-a19b-4877-e9e6-8d5b4e1c4398",
        "colab": {
          "base_uri": "https://localhost:8080/",
          "height": 424
        }
      },
      "outputs": [
        {
          "output_type": "execute_result",
          "data": {
            "text/plain": [
              "              place_name                                             tags  \\\n",
              "0      Agrowisata Satria   Agrowisata, Gianyar, Dekat dari Bandara, Mahal   \n",
              "1       Aloha Ubud Swing  Agrowisata, Gianyar, Sedang dari Bandara, Mahal   \n",
              "2      Big Garden Corner  Agrowisata, Denpasar, Dekat dari Bandara, Murah   \n",
              "3    Campuhan Ridge Walk  Agrowisata, Gianyar, Dekat dari Bandara, Gratis   \n",
              "4   Jatiluwih Green Land  Agrowisata, Tabanan, Sedang dari Bandara, Murah   \n",
              "..                   ...                                              ...   \n",
              "70        Pura Saraswati    Religius, Gianyar, Dekat dari Bandara, Gratis   \n",
              "71       Pura Taman Ayun      Religius, Badung, Dekat dari Bandara, Murah   \n",
              "72      Pura Tirta Empul    Religius, Gianyar, Sedang dari Bandara, Murah   \n",
              "73          Pura Uluwatu      Religius, Badung, Dekat dari Bandara, Mahal   \n",
              "74          Tirta Gangga   Religius, Karangasem, Jauh dari Bandara, Murah   \n",
              "\n",
              "                                          description  \n",
              "0   Agrowisata Satria menawarkan rasa Bali pada se...  \n",
              "1   Ajaklah orangorang tercinta untuk mencoba ayun...  \n",
              "2   Objek wisata Big Garden Corner Sanur adalah se...  \n",
              "3   Campuhan Ridge Walk adalah sebuah trek jogging...  \n",
              "4   Nominasi untuk penunjukan sebagai situs Warisa...  \n",
              "..                                                ...  \n",
              "70  Pura Saraswati merupakan pura yang didirikan u...  \n",
              "71  Pura Taman Ayun di susun dengan konsep taman t...  \n",
              "72  Tirta Empul adalah nama sebuah pura Hindu yang...  \n",
              "73  Pura yang terletak di ujung barat daya pulau B...  \n",
              "74  Ada tiga hal utama yang ada di taman Tirta Gan...  \n",
              "\n",
              "[75 rows x 3 columns]"
            ],
            "text/html": [
              "\n",
              "  <div id=\"df-cb5f001e-1b47-494f-b37f-61d3579e6bb7\">\n",
              "    <div class=\"colab-df-container\">\n",
              "      <div>\n",
              "<style scoped>\n",
              "    .dataframe tbody tr th:only-of-type {\n",
              "        vertical-align: middle;\n",
              "    }\n",
              "\n",
              "    .dataframe tbody tr th {\n",
              "        vertical-align: top;\n",
              "    }\n",
              "\n",
              "    .dataframe thead th {\n",
              "        text-align: right;\n",
              "    }\n",
              "</style>\n",
              "<table border=\"1\" class=\"dataframe\">\n",
              "  <thead>\n",
              "    <tr style=\"text-align: right;\">\n",
              "      <th></th>\n",
              "      <th>place_name</th>\n",
              "      <th>tags</th>\n",
              "      <th>description</th>\n",
              "    </tr>\n",
              "  </thead>\n",
              "  <tbody>\n",
              "    <tr>\n",
              "      <th>0</th>\n",
              "      <td>Agrowisata Satria</td>\n",
              "      <td>Agrowisata, Gianyar, Dekat dari Bandara, Mahal</td>\n",
              "      <td>Agrowisata Satria menawarkan rasa Bali pada se...</td>\n",
              "    </tr>\n",
              "    <tr>\n",
              "      <th>1</th>\n",
              "      <td>Aloha Ubud Swing</td>\n",
              "      <td>Agrowisata, Gianyar, Sedang dari Bandara, Mahal</td>\n",
              "      <td>Ajaklah orangorang tercinta untuk mencoba ayun...</td>\n",
              "    </tr>\n",
              "    <tr>\n",
              "      <th>2</th>\n",
              "      <td>Big Garden Corner</td>\n",
              "      <td>Agrowisata, Denpasar, Dekat dari Bandara, Murah</td>\n",
              "      <td>Objek wisata Big Garden Corner Sanur adalah se...</td>\n",
              "    </tr>\n",
              "    <tr>\n",
              "      <th>3</th>\n",
              "      <td>Campuhan Ridge Walk</td>\n",
              "      <td>Agrowisata, Gianyar, Dekat dari Bandara, Gratis</td>\n",
              "      <td>Campuhan Ridge Walk adalah sebuah trek jogging...</td>\n",
              "    </tr>\n",
              "    <tr>\n",
              "      <th>4</th>\n",
              "      <td>Jatiluwih Green Land</td>\n",
              "      <td>Agrowisata, Tabanan, Sedang dari Bandara, Murah</td>\n",
              "      <td>Nominasi untuk penunjukan sebagai situs Warisa...</td>\n",
              "    </tr>\n",
              "    <tr>\n",
              "      <th>...</th>\n",
              "      <td>...</td>\n",
              "      <td>...</td>\n",
              "      <td>...</td>\n",
              "    </tr>\n",
              "    <tr>\n",
              "      <th>70</th>\n",
              "      <td>Pura Saraswati</td>\n",
              "      <td>Religius, Gianyar, Dekat dari Bandara, Gratis</td>\n",
              "      <td>Pura Saraswati merupakan pura yang didirikan u...</td>\n",
              "    </tr>\n",
              "    <tr>\n",
              "      <th>71</th>\n",
              "      <td>Pura Taman Ayun</td>\n",
              "      <td>Religius, Badung, Dekat dari Bandara, Murah</td>\n",
              "      <td>Pura Taman Ayun di susun dengan konsep taman t...</td>\n",
              "    </tr>\n",
              "    <tr>\n",
              "      <th>72</th>\n",
              "      <td>Pura Tirta Empul</td>\n",
              "      <td>Religius, Gianyar, Sedang dari Bandara, Murah</td>\n",
              "      <td>Tirta Empul adalah nama sebuah pura Hindu yang...</td>\n",
              "    </tr>\n",
              "    <tr>\n",
              "      <th>73</th>\n",
              "      <td>Pura Uluwatu</td>\n",
              "      <td>Religius, Badung, Dekat dari Bandara, Mahal</td>\n",
              "      <td>Pura yang terletak di ujung barat daya pulau B...</td>\n",
              "    </tr>\n",
              "    <tr>\n",
              "      <th>74</th>\n",
              "      <td>Tirta Gangga</td>\n",
              "      <td>Religius, Karangasem, Jauh dari Bandara, Murah</td>\n",
              "      <td>Ada tiga hal utama yang ada di taman Tirta Gan...</td>\n",
              "    </tr>\n",
              "  </tbody>\n",
              "</table>\n",
              "<p>75 rows × 3 columns</p>\n",
              "</div>\n",
              "      <button class=\"colab-df-convert\" onclick=\"convertToInteractive('df-cb5f001e-1b47-494f-b37f-61d3579e6bb7')\"\n",
              "              title=\"Convert this dataframe to an interactive table.\"\n",
              "              style=\"display:none;\">\n",
              "        \n",
              "  <svg xmlns=\"http://www.w3.org/2000/svg\" height=\"24px\"viewBox=\"0 0 24 24\"\n",
              "       width=\"24px\">\n",
              "    <path d=\"M0 0h24v24H0V0z\" fill=\"none\"/>\n",
              "    <path d=\"M18.56 5.44l.94 2.06.94-2.06 2.06-.94-2.06-.94-.94-2.06-.94 2.06-2.06.94zm-11 1L8.5 8.5l.94-2.06 2.06-.94-2.06-.94L8.5 2.5l-.94 2.06-2.06.94zm10 10l.94 2.06.94-2.06 2.06-.94-2.06-.94-.94-2.06-.94 2.06-2.06.94z\"/><path d=\"M17.41 7.96l-1.37-1.37c-.4-.4-.92-.59-1.43-.59-.52 0-1.04.2-1.43.59L10.3 9.45l-7.72 7.72c-.78.78-.78 2.05 0 2.83L4 21.41c.39.39.9.59 1.41.59.51 0 1.02-.2 1.41-.59l7.78-7.78 2.81-2.81c.8-.78.8-2.07 0-2.86zM5.41 20L4 18.59l7.72-7.72 1.47 1.35L5.41 20z\"/>\n",
              "  </svg>\n",
              "      </button>\n",
              "      \n",
              "  <style>\n",
              "    .colab-df-container {\n",
              "      display:flex;\n",
              "      flex-wrap:wrap;\n",
              "      gap: 12px;\n",
              "    }\n",
              "\n",
              "    .colab-df-convert {\n",
              "      background-color: #E8F0FE;\n",
              "      border: none;\n",
              "      border-radius: 50%;\n",
              "      cursor: pointer;\n",
              "      display: none;\n",
              "      fill: #1967D2;\n",
              "      height: 32px;\n",
              "      padding: 0 0 0 0;\n",
              "      width: 32px;\n",
              "    }\n",
              "\n",
              "    .colab-df-convert:hover {\n",
              "      background-color: #E2EBFA;\n",
              "      box-shadow: 0px 1px 2px rgba(60, 64, 67, 0.3), 0px 1px 3px 1px rgba(60, 64, 67, 0.15);\n",
              "      fill: #174EA6;\n",
              "    }\n",
              "\n",
              "    [theme=dark] .colab-df-convert {\n",
              "      background-color: #3B4455;\n",
              "      fill: #D2E3FC;\n",
              "    }\n",
              "\n",
              "    [theme=dark] .colab-df-convert:hover {\n",
              "      background-color: #434B5C;\n",
              "      box-shadow: 0px 1px 3px 1px rgba(0, 0, 0, 0.15);\n",
              "      filter: drop-shadow(0px 1px 2px rgba(0, 0, 0, 0.3));\n",
              "      fill: #FFFFFF;\n",
              "    }\n",
              "  </style>\n",
              "\n",
              "      <script>\n",
              "        const buttonEl =\n",
              "          document.querySelector('#df-cb5f001e-1b47-494f-b37f-61d3579e6bb7 button.colab-df-convert');\n",
              "        buttonEl.style.display =\n",
              "          google.colab.kernel.accessAllowed ? 'block' : 'none';\n",
              "\n",
              "        async function convertToInteractive(key) {\n",
              "          const element = document.querySelector('#df-cb5f001e-1b47-494f-b37f-61d3579e6bb7');\n",
              "          const dataTable =\n",
              "            await google.colab.kernel.invokeFunction('convertToInteractive',\n",
              "                                                     [key], {});\n",
              "          if (!dataTable) return;\n",
              "\n",
              "          const docLinkHtml = 'Like what you see? Visit the ' +\n",
              "            '<a target=\"_blank\" href=https://colab.research.google.com/notebooks/data_table.ipynb>data table notebook</a>'\n",
              "            + ' to learn more about interactive tables.';\n",
              "          element.innerHTML = '';\n",
              "          dataTable['output_type'] = 'display_data';\n",
              "          await google.colab.output.renderOutput(dataTable, element);\n",
              "          const docLink = document.createElement('div');\n",
              "          docLink.innerHTML = docLinkHtml;\n",
              "          element.appendChild(docLink);\n",
              "        }\n",
              "      </script>\n",
              "    </div>\n",
              "  </div>\n",
              "  "
            ]
          },
          "metadata": {},
          "execution_count": 7
        }
      ],
      "source": [
        "df_filter = df_filter.dropna(axis='rows')\n",
        "df_filter = df_filter.fillna('unknown')\n",
        "df_filter"
      ]
    },
    {
      "cell_type": "markdown",
      "id": "edb459bd",
      "metadata": {
        "id": "edb459bd"
      },
      "source": [
        "## Recommendation by Genre"
      ]
    },
    {
      "cell_type": "code",
      "execution_count": 8,
      "id": "a963407c",
      "metadata": {
        "id": "a963407c",
        "outputId": "313895a9-211c-492a-e94c-e3d5a1ed3ffd",
        "colab": {
          "base_uri": "https://localhost:8080/"
        }
      },
      "outputs": [
        {
          "output_type": "execute_result",
          "data": {
            "text/plain": [
              "0      Agrowisata, Gianyar, Dekat dari Bandara, Mahal\n",
              "1     Agrowisata, Gianyar, Sedang dari Bandara, Mahal\n",
              "2     Agrowisata, Denpasar, Dekat dari Bandara, Murah\n",
              "3     Agrowisata, Gianyar, Dekat dari Bandara, Gratis\n",
              "4     Agrowisata, Tabanan, Sedang dari Bandara, Murah\n",
              "                           ...                       \n",
              "70      Religius, Gianyar, Dekat dari Bandara, Gratis\n",
              "71        Religius, Badung, Dekat dari Bandara, Murah\n",
              "72      Religius, Gianyar, Sedang dari Bandara, Murah\n",
              "73        Religius, Badung, Dekat dari Bandara, Mahal\n",
              "74     Religius, Karangasem, Jauh dari Bandara, Murah\n",
              "Name: tags, Length: 75, dtype: object"
            ]
          },
          "metadata": {},
          "execution_count": 8
        }
      ],
      "source": [
        "df_Tags = df.tags\n",
        "df_Tags"
      ]
    },
    {
      "cell_type": "code",
      "execution_count": 9,
      "id": "c0a4b02c",
      "metadata": {
        "id": "c0a4b02c",
        "outputId": "1bf4e454-ce4c-417c-9d66-295f47065e58",
        "colab": {
          "base_uri": "https://localhost:8080/"
        }
      },
      "outputs": [
        {
          "output_type": "execute_result",
          "data": {
            "text/plain": [
              "0      agrowisata gianyar dekat dari bandara mahal\n",
              "1     agrowisata gianyar sedang dari bandara mahal\n",
              "2     agrowisata denpasar dekat dari bandara murah\n",
              "3     agrowisata gianyar dekat dari bandara gratis\n",
              "4     agrowisata tabanan sedang dari bandara murah\n",
              "                          ...                     \n",
              "70      religius gianyar dekat dari bandara gratis\n",
              "71        religius badung dekat dari bandara murah\n",
              "72      religius gianyar sedang dari bandara murah\n",
              "73        religius badung dekat dari bandara mahal\n",
              "74     religius karangasem jauh dari bandara murah\n",
              "Name: tags, Length: 75, dtype: object"
            ]
          },
          "metadata": {},
          "execution_count": 9
        }
      ],
      "source": [
        "def remove_brackets(data):\n",
        "    data = str(data).lower()\n",
        "    data = data.replace(',', '')\n",
        "    data = data.replace(\"'\", '')\n",
        "    return data\n",
        "\n",
        "df_Tags = df_Tags.apply(remove_brackets)\n",
        "df_Tags"
      ]
    },
    {
      "cell_type": "code",
      "execution_count": 10,
      "id": "e6e82d58",
      "metadata": {
        "id": "e6e82d58"
      },
      "outputs": [],
      "source": [
        "vector_tfidf = TfidfVectorizer()\n",
        "result_tfidf = vector_tfidf.fit_transform(df_Tags)"
      ]
    },
    {
      "cell_type": "code",
      "execution_count": 11,
      "id": "4097092f",
      "metadata": {
        "id": "4097092f",
        "outputId": "041de1e5-c14b-4da2-deff-74044ff83520",
        "colab": {
          "base_uri": "https://localhost:8080/"
        }
      },
      "outputs": [
        {
          "output_type": "execute_result",
          "data": {
            "text/plain": [
              "array([[0.61205958, 0.        , 0.        , ..., 0.        , 0.        ,\n",
              "        0.        ],\n",
              "       [0.58476617, 0.        , 0.        , ..., 0.        , 0.40172671,\n",
              "        0.        ],\n",
              "       [0.56503277, 0.        , 0.        , ..., 0.        , 0.        ,\n",
              "        0.        ],\n",
              "       ...,\n",
              "       [0.        , 0.        , 0.        , ..., 0.56580037, 0.46440488,\n",
              "        0.        ],\n",
              "       [0.        , 0.        , 0.47180427, ..., 0.54124189, 0.        ,\n",
              "        0.        ],\n",
              "       [0.        , 0.        , 0.        , ..., 0.44374903, 0.        ,\n",
              "        0.        ]])"
            ]
          },
          "metadata": {},
          "execution_count": 11
        }
      ],
      "source": [
        "result_arr = result_tfidf.toarray()\n",
        "result_arr"
      ]
    },
    {
      "cell_type": "code",
      "execution_count": 17,
      "id": "15935134",
      "metadata": {
        "scrolled": false,
        "id": "15935134",
        "outputId": "54b08355-bcee-4183-d3b6-222cd76aac5c",
        "colab": {
          "base_uri": "https://localhost:8080/"
        }
      },
      "outputs": [
        {
          "output_type": "execute_result",
          "data": {
            "text/plain": [
              "array(['agrowisata', 'alam', 'badung', 'bandara', 'bangli', 'belanja',\n",
              "       'budaya', 'buleleng', 'dari', 'dekat', 'denpasar', 'gianyar',\n",
              "       'gratis', 'jauh', 'karangasem', 'klungkung', 'mahal', 'murah',\n",
              "       'pantai', 'religius', 'sedang', 'tabanan'], dtype=object)"
            ]
          },
          "metadata": {},
          "execution_count": 17
        }
      ],
      "source": [
        "vector_tfidf.get_feature_names_out()"
      ]
    },
    {
      "cell_type": "code",
      "execution_count": 20,
      "id": "861bf3aa",
      "metadata": {
        "id": "861bf3aa"
      },
      "outputs": [],
      "source": [
        "# choose one or more category\n",
        "test = 'pantai gratis'"
      ]
    },
    {
      "cell_type": "code",
      "source": [
        "test = 'alam dekat gratis'\n",
        "test_arr = vector_tfidf.transform([test])\n",
        "test_arr = test_arr.toarray()\n",
        "test_arr"
      ],
      "metadata": {
        "colab": {
          "base_uri": "https://localhost:8080/"
        },
        "id": "jIpf5v2wT6f7",
        "outputId": "5dc1cc82-42db-4b9a-c6b3-78ea0d5b1bd5"
      },
      "id": "jIpf5v2wT6f7",
      "execution_count": 27,
      "outputs": [
        {
          "output_type": "execute_result",
          "data": {
            "text/plain": [
              "array([[0.        , 0.7061612 , 0.        , 0.        , 0.        ,\n",
              "        0.        , 0.        , 0.        , 0.        , 0.41267541,\n",
              "        0.        , 0.        , 0.57535673, 0.        , 0.        ,\n",
              "        0.        , 0.        , 0.        , 0.        , 0.        ,\n",
              "        0.        , 0.        ]])"
            ]
          },
          "metadata": {},
          "execution_count": 27
        }
      ]
    },
    {
      "cell_type": "code",
      "source": [
        "result = {}\n",
        "for id, vector in enumerate(result_arr):\n",
        "    cosine_val = cosine_similarity([result_arr[id]], test_arr)\n",
        "    result[id] = cosine_val\n",
        "\n",
        "result_desc = dict(sorted(result.items(), key=lambda item: item[1], reverse=True))\n",
        "\n",
        "top_n = 5\n",
        "\n",
        "for n, place_id in enumerate(result_desc):\n",
        "    if n > 4:\n",
        "        break\n",
        "    print(df_filter.iloc[place_id]['place_name'])"
      ],
      "metadata": {
        "colab": {
          "base_uri": "https://localhost:8080/"
        },
        "id": "C4zzsUovUKhm",
        "outputId": "8cdd08a9-6281-43cd-99b0-3db3690836d8"
      },
      "id": "C4zzsUovUKhm",
      "execution_count": 28,
      "outputs": [
        {
          "output_type": "stream",
          "name": "stdout",
          "text": [
            "Watersport Tanjung Benoa Bali\n",
            "Air Terjun Tegenungan\n",
            "Bali Bird Park\n",
            "Monkey Forest Ubud\n",
            "Bali Swing\n"
          ]
        }
      ]
    },
    {
      "cell_type": "markdown",
      "source": [
        "##save data"
      ],
      "metadata": {
        "id": "FZ0bOk1PSkT5"
      },
      "id": "FZ0bOk1PSkT5"
    },
    {
      "cell_type": "code",
      "source": [
        "vectortfidf_wisata = pickle.load(open('vector_tfidf.pkl','rb'))\n",
        "vectortfidf_wisata"
      ],
      "metadata": {
        "colab": {
          "base_uri": "https://localhost:8080/"
        },
        "id": "LgOBh7o6Tw_2",
        "outputId": "e3278862-9d65-4231-b444-7d07a582dedd"
      },
      "id": "LgOBh7o6Tw_2",
      "execution_count": 23,
      "outputs": [
        {
          "output_type": "execute_result",
          "data": {
            "text/plain": [
              "TfidfVectorizer()"
            ]
          },
          "metadata": {},
          "execution_count": 23
        }
      ]
    },
    {
      "cell_type": "code",
      "execution_count": 13,
      "id": "83da6caa",
      "metadata": {
        "id": "83da6caa"
      },
      "outputs": [],
      "source": [
        "# Save dataframe\n",
        "pickle.dump(result_arr, open('resulttfidf_wisata.pkl', 'wb'))"
      ]
    },
    {
      "cell_type": "code",
      "source": [
        "resulttfidf_wisata = pickle.load(open('resulttfidf_wisata.pkl','rb'))\n",
        "resulttfidf_wisata"
      ],
      "metadata": {
        "colab": {
          "base_uri": "https://localhost:8080/"
        },
        "id": "2QYL4awESqLs",
        "outputId": "e8fe073a-a2c1-4101-f5a1-01efe02c2c75"
      },
      "id": "2QYL4awESqLs",
      "execution_count": 16,
      "outputs": [
        {
          "output_type": "execute_result",
          "data": {
            "text/plain": [
              "array([[0.61205958, 0.        , 0.        , ..., 0.        , 0.        ,\n",
              "        0.        ],\n",
              "       [0.58476617, 0.        , 0.        , ..., 0.        , 0.40172671,\n",
              "        0.        ],\n",
              "       [0.56503277, 0.        , 0.        , ..., 0.        , 0.        ,\n",
              "        0.        ],\n",
              "       ...,\n",
              "       [0.        , 0.        , 0.        , ..., 0.56580037, 0.46440488,\n",
              "        0.        ],\n",
              "       [0.        , 0.        , 0.47180427, ..., 0.54124189, 0.        ,\n",
              "        0.        ],\n",
              "       [0.        , 0.        , 0.        , ..., 0.44374903, 0.        ,\n",
              "        0.        ]])"
            ]
          },
          "metadata": {},
          "execution_count": 16
        }
      ]
    },
    {
      "cell_type": "code",
      "source": [
        "pickle.dump(df, open('df.pkl', 'wb'))"
      ],
      "metadata": {
        "id": "tedyiwFzkrju"
      },
      "id": "tedyiwFzkrju",
      "execution_count": 30,
      "outputs": []
    },
    {
      "cell_type": "code",
      "source": [
        "pickle.dump(vector_tfidf, open('vector_tfidf.pkl', 'wb'))"
      ],
      "metadata": {
        "id": "q93qET7QTkMD"
      },
      "id": "q93qET7QTkMD",
      "execution_count": 22,
      "outputs": []
    }
  ],
  "metadata": {
    "kernelspec": {
      "display_name": "Python 3 (ipykernel)",
      "language": "python",
      "name": "python3"
    },
    "language_info": {
      "codemirror_mode": {
        "name": "ipython",
        "version": 3
      },
      "file_extension": ".py",
      "mimetype": "text/x-python",
      "name": "python",
      "nbconvert_exporter": "python",
      "pygments_lexer": "ipython3",
      "version": "3.9.0"
    },
    "colab": {
      "provenance": []
    }
  },
  "nbformat": 4,
  "nbformat_minor": 5
}